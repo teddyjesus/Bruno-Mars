{
 "cells": [
  {
   "cell_type": "code",
   "execution_count": 2,
   "metadata": {},
   "outputs": [],
   "source": [
    "import os\n",
    "import numpy as np\n",
    "import pandas as pd\n",
    "import re \n",
    "\n",
    "#pip install contractions\n",
    "import string\n",
    "import contractions\n",
    "import nltk\n",
    "from nltk.tokenize import word_tokenize\n",
    "\n",
    "from nltk.stem import WordNetLemmatizer\n",
    "\n",
    "#nltk.download('wordnet')\n",
    "#nltk.download('punkt')\n",
    "#nltk.download('stopwords')\n",
    "from nltk.corpus import stopwords"
   ]
  },
  {
   "cell_type": "code",
   "execution_count": 3,
   "metadata": {},
   "outputs": [
    {
     "data": {
      "text/html": [
       "<div>\n",
       "<style scoped>\n",
       "    .dataframe tbody tr th:only-of-type {\n",
       "        vertical-align: middle;\n",
       "    }\n",
       "\n",
       "    .dataframe tbody tr th {\n",
       "        vertical-align: top;\n",
       "    }\n",
       "\n",
       "    .dataframe thead th {\n",
       "        text-align: right;\n",
       "    }\n",
       "</style>\n",
       "<table border=\"1\" class=\"dataframe\">\n",
       "  <thead>\n",
       "    <tr style=\"text-align: right;\">\n",
       "      <th></th>\n",
       "      <th>Title</th>\n",
       "      <th>Lyrics</th>\n",
       "    </tr>\n",
       "  </thead>\n",
       "  <tbody>\n",
       "    <tr>\n",
       "      <td>0</td>\n",
       "      <td>Grenade</td>\n",
       "      <td>[Verse 1]\\nEasy come, easy go, that's just how...</td>\n",
       "    </tr>\n",
       "    <tr>\n",
       "      <td>1</td>\n",
       "      <td>Just the Way You Are</td>\n",
       "      <td>[Verse 1]\\nOh, her eyes, her eyes\\nMake the st...</td>\n",
       "    </tr>\n",
       "    <tr>\n",
       "      <td>2</td>\n",
       "      <td>Our First Time</td>\n",
       "      <td>[Refrain]\\nDon't it feel good, babe?\\nDon't it...</td>\n",
       "    </tr>\n",
       "    <tr>\n",
       "      <td>3</td>\n",
       "      <td>Runaway Baby</td>\n",
       "      <td>[Intro]\\nOh yes\\n\\n[Verse 1]\\nWell, looky here...</td>\n",
       "    </tr>\n",
       "    <tr>\n",
       "      <td>4</td>\n",
       "      <td>Lazy Song</td>\n",
       "      <td>[Chorus]\\nToday, I don't feel like doing anyth...</td>\n",
       "    </tr>\n",
       "  </tbody>\n",
       "</table>\n",
       "</div>"
      ],
      "text/plain": [
       "                  Title                                             Lyrics\n",
       "0               Grenade  [Verse 1]\\nEasy come, easy go, that's just how...\n",
       "1  Just the Way You Are  [Verse 1]\\nOh, her eyes, her eyes\\nMake the st...\n",
       "2        Our First Time  [Refrain]\\nDon't it feel good, babe?\\nDon't it...\n",
       "3          Runaway Baby  [Intro]\\nOh yes\\n\\n[Verse 1]\\nWell, looky here...\n",
       "4             Lazy Song  [Chorus]\\nToday, I don't feel like doing anyth..."
      ]
     },
     "execution_count": 3,
     "metadata": {},
     "output_type": "execute_result"
    }
   ],
   "source": [
    "raw_data=pd.read_csv(\"raw_data.csv\")\n",
    "raw_data.head()"
   ]
  },
  {
   "cell_type": "markdown",
   "metadata": {},
   "source": [
    "We begin data preprocessing by looking at how our raw data is formatted. The following lyrics are from *Grenade:*"
   ]
  },
  {
   "cell_type": "code",
   "execution_count": 4,
   "metadata": {},
   "outputs": [
    {
     "data": {
      "text/plain": [
       "'[Verse 1]\\nEasy come, easy go, that\\'s just how you live, oh\\nTake, take, take it all, but you never give\\nShoulda known you was trouble from the first kiss\\nHad your eyes wide open; why were they open? (Ooh)\\n\\n[Pre-Chorus]\\nGave you all I had and you tossed it in the trash\\nYou tossed it in the trash, you did\\nTo give me all your love is all I ever ask\\n\\'Cause what you don\\'t understand is\\n\\n[Chorus]\\nI\\'d catch a grenade for ya (Yeah, yeah, yeah)\\nThrow my hand on a blade for ya (Yeah, yeah, yeah)\\nI\\'d jump in front of a train for ya (Yeah, yeah, yeah)\\nYou know I\\'d do anything for ya (Yeah, yeah, yeah)\\nOh, oh-oh oh oh, I would go through all this pain\\nTake a bullet straight through my brain\\nYes, I would die for ya baby\\nBut you won\\'t do the same\\n\\n[Post-Chorus]\\nNo, no, no, no, oh-oh oh...\\n\\n[Verse 2]\\nBlack, black, black and blue, beat me \\'til I\\'m numb\\nTell the devil I said \"Hey\" when you get back to where you\\'re from\\nMad woman, bad woman, that\\'s just what you are\\nYeah, you\\'ll smile in my face then rip the brakes out my car\\n\\n[Pre-Chorus]\\nGave you all I had and you tossed it in the trash\\nYou tossed it in the trash; yes, you did!\\nTo give me all your love is all I ever ask\\n\\'Cause what you don\\'t understand is\\n\\n[Chorus]\\nI\\'d catch a grenade for ya (Yeah, yeah, yeah)\\nThrow my hand on a blade for ya (Yeah, yeah, yeah)\\nI\\'d jump in front of a train for ya (Yeah, yeah, yeah)\\nYou know I\\'d do anything for ya (Yeah, yeah, yeah)\\nOh, oh-oh oh oh, I would go through all this pain\\nTake a bullet straight through my brain\\nYes, I would die for ya, baby\\nBut you won\\'t do the same\\n\\n[Bridge]\\nIf my body was on fire\\nOoh, you\\'d watch me burn down in flames\\nYou said you loved me, you\\'re a liar\\nCause you never, ever, ever did, baby\\n\\n[Chorus]\\nBut darlin\\', I\\'d still catch a grenade for ya (Yeah, yeah, yeah)\\nThrow my hand on a blade for ya (Yeah, yeah, yeah)\\nI\\'d jump in front of a train for ya (Yeah, yeah, yeah)\\nYou know I\\'d do anything for ya (Yeah, yeah, yeah)\\nOh, oh-oh oh-oh, I would go through all this pain\\nTake a bullet straight through my brain\\nYes, I would die for ya, baby\\nBut you won\\'t do the same\\n\\n[Outro]\\nNo, you won\\'t do the same\\nYou wouldn\\'t do the same\\nOoh, you\\'d never do the same\\nNo, no, no, no oh-oh oh'"
      ]
     },
     "execution_count": 4,
     "metadata": {},
     "output_type": "execute_result"
    }
   ],
   "source": [
    "raw_data[\"Lyrics\"][0]"
   ]
  },
  {
   "cell_type": "markdown",
   "metadata": {},
   "source": [
    "The instances of \\n denote line breaks as how the song appears on Genius. Splitting the text between \\n, we can see that the lyrics are divided by song structure, namely the verse, chorus, and bridge:"
   ]
  },
  {
   "cell_type": "code",
   "execution_count": 5,
   "metadata": {},
   "outputs": [
    {
     "data": {
      "text/plain": [
       "['[Verse 1]',\n",
       " \"Easy come, easy go, that's just how you live, oh\",\n",
       " 'Take, take, take it all, but you never give',\n",
       " 'Shoulda known you was trouble from the first kiss',\n",
       " 'Had your eyes wide open; why were they open? (Ooh)',\n",
       " '',\n",
       " '[Pre-Chorus]',\n",
       " 'Gave you all I had and you tossed it in the trash',\n",
       " 'You tossed it in the trash, you did',\n",
       " 'To give me all your love is all I ever ask',\n",
       " \"'Cause what you don't understand is\",\n",
       " '',\n",
       " '[Chorus]',\n",
       " \"I'd catch a grenade for ya (Yeah, yeah, yeah)\",\n",
       " 'Throw my hand on a blade for ya (Yeah, yeah, yeah)',\n",
       " \"I'd jump in front of a train for ya (Yeah, yeah, yeah)\",\n",
       " \"You know I'd do anything for ya (Yeah, yeah, yeah)\",\n",
       " 'Oh, oh-oh oh oh, I would go through all this pain',\n",
       " 'Take a bullet straight through my brain',\n",
       " 'Yes, I would die for ya baby',\n",
       " \"But you won't do the same\",\n",
       " '',\n",
       " '[Post-Chorus]',\n",
       " 'No, no, no, no, oh-oh oh...',\n",
       " '',\n",
       " '[Verse 2]',\n",
       " \"Black, black, black and blue, beat me 'til I'm numb\",\n",
       " 'Tell the devil I said \"Hey\" when you get back to where you\\'re from',\n",
       " \"Mad woman, bad woman, that's just what you are\",\n",
       " \"Yeah, you'll smile in my face then rip the brakes out my car\",\n",
       " '',\n",
       " '[Pre-Chorus]',\n",
       " 'Gave you all I had and you tossed it in the trash',\n",
       " 'You tossed it in the trash; yes, you did!',\n",
       " 'To give me all your love is all I ever ask',\n",
       " \"'Cause what you don't understand is\",\n",
       " '',\n",
       " '[Chorus]',\n",
       " \"I'd catch a grenade for ya (Yeah, yeah, yeah)\",\n",
       " 'Throw my hand on a blade for ya (Yeah, yeah, yeah)',\n",
       " \"I'd jump in front of a train for ya (Yeah, yeah, yeah)\",\n",
       " \"You know I'd do anything for ya (Yeah, yeah, yeah)\",\n",
       " 'Oh, oh-oh oh oh, I would go through all this pain',\n",
       " 'Take a bullet straight through my brain',\n",
       " 'Yes, I would die for ya, baby',\n",
       " \"But you won't do the same\",\n",
       " '',\n",
       " '[Bridge]',\n",
       " 'If my body was on fire',\n",
       " \"Ooh, you'd watch me burn down in flames\",\n",
       " \"You said you loved me, you're a liar\",\n",
       " 'Cause you never, ever, ever did, baby',\n",
       " '',\n",
       " '[Chorus]',\n",
       " \"But darlin', I'd still catch a grenade for ya (Yeah, yeah, yeah)\",\n",
       " 'Throw my hand on a blade for ya (Yeah, yeah, yeah)',\n",
       " \"I'd jump in front of a train for ya (Yeah, yeah, yeah)\",\n",
       " \"You know I'd do anything for ya (Yeah, yeah, yeah)\",\n",
       " 'Oh, oh-oh oh-oh, I would go through all this pain',\n",
       " 'Take a bullet straight through my brain',\n",
       " 'Yes, I would die for ya, baby',\n",
       " \"But you won't do the same\",\n",
       " '',\n",
       " '[Outro]',\n",
       " \"No, you won't do the same\",\n",
       " \"You wouldn't do the same\",\n",
       " \"Ooh, you'd never do the same\",\n",
       " 'No, no, no, no oh-oh oh']"
      ]
     },
     "execution_count": 5,
     "metadata": {},
     "output_type": "execute_result"
    }
   ],
   "source": [
    "raw_data[\"Lyrics\"][0].split(\"\\n\")"
   ]
  },
  {
   "cell_type": "markdown",
   "metadata": {},
   "source": [
    "It would be interesting to specifically look at the chorus; it's essentially the \"heart\" of any song. But for now, I will not be distinguishing the text by song structure. In addition to removing those tags from my data, I will:\n",
    "\n",
    "a. expand contractions and convert all characters to lowercase\n",
    "\n",
    "b. remove stop words, punctuations, and white space\n",
    "\n",
    "c. lemmatize words to their roots\n",
    "\n",
    "To streamline text preprocessing, I created a function to perform the commands above that I will then iterate through all 28 songs in my data:"
   ]
  },
  {
   "cell_type": "code",
   "execution_count": 6,
   "metadata": {},
   "outputs": [],
   "source": [
    "index=str.maketrans(dict.fromkeys(string.punctuation))\n",
    "lemmatizer=WordNetLemmatizer()\n",
    "stopWords = set(stopwords.words(\"english\"))\n",
    "\n",
    "Preprocessed=[]\n",
    "def preprocess(text):\n",
    "    text=text.lower() \n",
    "    text=re.sub(r'\\[.*?\\]',\"\",text)\n",
    "    expandContractions=contractions.fix(text)\n",
    "    removePunctuations=expandContractions.translate(index)\n",
    "    removeStopWords=[i for i in word_tokenize(removePunctuations) if i not in stopWords]\n",
    "    lemmatization=[lemmatizer.lemmatize(i) for i in removeStopWords]\n",
    "    text=\" \".join(lemmatization)\n",
    "    Preprocessed.append(text)\n",
    "\n",
    "for i in raw_data[\"Lyrics\"]:\n",
    "    text=preprocess(i)\n",
    "    \n",
    "preprocessed_data=raw_data\n",
    "preprocessed_data.columns.values[[0,1]]=[\"Song Title\",\"Raw Data\"]\n",
    "preprocessed_data[\"Preprocessed\"]=Preprocessed"
   ]
  },
  {
   "cell_type": "markdown",
   "metadata": {},
   "source": [
    "After preprocessing, the lyrics from *Grenade* is now in this format:"
   ]
  },
  {
   "cell_type": "code",
   "execution_count": 7,
   "metadata": {
    "scrolled": true
   },
   "outputs": [
    {
     "data": {
      "text/plain": [
       "'easy come easy go live oh take take take never give shoulda known trouble first kiss eye wide open open ooh gave tossed trash tossed trash give love ever ask understand I would catch grenade ya yeah yeah yeah throw hand blade ya yeah yeah yeah I would jump front train ya yeah yeah yeah know I would anything ya yeah yeah yeah oh ohoh oh oh would go pain take bullet straight brain yes would die ya baby ohoh oh black black black blue beat til I numb tell devil said hey get back mad woman bad woman yeah smile face rip brake car gave tossed trash tossed trash yes give love ever ask understand I would catch grenade ya yeah yeah yeah throw hand blade ya yeah yeah yeah I would jump front train ya yeah yeah yeah know I would anything ya yeah yeah yeah oh ohoh oh oh would go pain take bullet straight brain yes would die ya baby body fire ooh would watch burn flame said loved liar never ever ever baby darlin I would still catch grenade ya yeah yeah yeah throw hand blade ya yeah yeah yeah I would jump front train ya yeah yeah yeah know I would anything ya yeah yeah yeah oh ohoh ohoh would go pain take bullet straight brain yes would die ya baby would ooh would never ohoh oh'"
      ]
     },
     "execution_count": 7,
     "metadata": {},
     "output_type": "execute_result"
    }
   ],
   "source": [
    "preprocessed_data[\"Preprocessed\"][0]"
   ]
  },
  {
   "cell_type": "markdown",
   "metadata": {},
   "source": [
    "A certain degree of random noise will always remain after any form of text preprocessing. In *Grenade,* there are three variations of *oh:* oh, ohoh, and ooh."
   ]
  },
  {
   "cell_type": "code",
   "execution_count": 8,
   "metadata": {},
   "outputs": [
    {
     "data": {
      "text/html": [
       "<div>\n",
       "<style scoped>\n",
       "    .dataframe tbody tr th:only-of-type {\n",
       "        vertical-align: middle;\n",
       "    }\n",
       "\n",
       "    .dataframe tbody tr th {\n",
       "        vertical-align: top;\n",
       "    }\n",
       "\n",
       "    .dataframe thead th {\n",
       "        text-align: right;\n",
       "    }\n",
       "</style>\n",
       "<table border=\"1\" class=\"dataframe\">\n",
       "  <thead>\n",
       "    <tr style=\"text-align: right;\">\n",
       "      <th></th>\n",
       "      <th>Song Title</th>\n",
       "      <th>Raw Data</th>\n",
       "      <th>Preprocessed</th>\n",
       "    </tr>\n",
       "  </thead>\n",
       "  <tbody>\n",
       "    <tr>\n",
       "      <td>0</td>\n",
       "      <td>Grenade</td>\n",
       "      <td>[Verse 1]\\nEasy come, easy go, that's just how...</td>\n",
       "      <td>easy come easy go live oh take take take never...</td>\n",
       "    </tr>\n",
       "    <tr>\n",
       "      <td>1</td>\n",
       "      <td>Just the Way You Are</td>\n",
       "      <td>[Verse 1]\\nOh, her eyes, her eyes\\nMake the st...</td>\n",
       "      <td>oh eye eye make star look like shinin hair hai...</td>\n",
       "    </tr>\n",
       "    <tr>\n",
       "      <td>2</td>\n",
       "      <td>Our First Time</td>\n",
       "      <td>[Refrain]\\nDon't it feel good, babe?\\nDon't it...</td>\n",
       "      <td>feel good babe feel good baby brand new babe b...</td>\n",
       "    </tr>\n",
       "    <tr>\n",
       "      <td>3</td>\n",
       "      <td>Runaway Baby</td>\n",
       "      <td>[Intro]\\nOh yes\\n\\n[Verse 1]\\nWell, looky here...</td>\n",
       "      <td>oh yes well looky looky ah another pretty thin...</td>\n",
       "    </tr>\n",
       "    <tr>\n",
       "      <td>4</td>\n",
       "      <td>Lazy Song</td>\n",
       "      <td>[Chorus]\\nToday, I don't feel like doing anyth...</td>\n",
       "      <td>today feel like anything want lay bed feel lik...</td>\n",
       "    </tr>\n",
       "  </tbody>\n",
       "</table>\n",
       "</div>"
      ],
      "text/plain": [
       "             Song Title                                           Raw Data  \\\n",
       "0               Grenade  [Verse 1]\\nEasy come, easy go, that's just how...   \n",
       "1  Just the Way You Are  [Verse 1]\\nOh, her eyes, her eyes\\nMake the st...   \n",
       "2        Our First Time  [Refrain]\\nDon't it feel good, babe?\\nDon't it...   \n",
       "3          Runaway Baby  [Intro]\\nOh yes\\n\\n[Verse 1]\\nWell, looky here...   \n",
       "4             Lazy Song  [Chorus]\\nToday, I don't feel like doing anyth...   \n",
       "\n",
       "                                        Preprocessed  \n",
       "0  easy come easy go live oh take take take never...  \n",
       "1  oh eye eye make star look like shinin hair hai...  \n",
       "2  feel good babe feel good baby brand new babe b...  \n",
       "3  oh yes well looky looky ah another pretty thin...  \n",
       "4  today feel like anything want lay bed feel lik...  "
      ]
     },
     "execution_count": 8,
     "metadata": {},
     "output_type": "execute_result"
    }
   ],
   "source": [
    "preprocessed_data.head()"
   ]
  },
  {
   "cell_type": "code",
   "execution_count": null,
   "metadata": {},
   "outputs": [],
   "source": [
    "preprocessed_data.to_csv(\"preprocessed_data.csv\",index=False)"
   ]
  }
 ],
 "metadata": {
  "kernelspec": {
   "display_name": "Python 3",
   "language": "python",
   "name": "python3"
  },
  "language_info": {
   "codemirror_mode": {
    "name": "ipython",
    "version": 3
   },
   "file_extension": ".py",
   "mimetype": "text/x-python",
   "name": "python",
   "nbconvert_exporter": "python",
   "pygments_lexer": "ipython3",
   "version": "3.7.4"
  }
 },
 "nbformat": 4,
 "nbformat_minor": 2
}
