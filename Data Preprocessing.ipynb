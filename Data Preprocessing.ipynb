{
 "cells": [
  {
   "cell_type": "code",
   "execution_count": 1,
   "metadata": {},
   "outputs": [],
   "source": [
    "import os\n",
    "import numpy as np\n",
    "import pandas as pd"
   ]
  },
  {
   "cell_type": "code",
   "execution_count": 2,
   "metadata": {},
   "outputs": [],
   "source": [
    "raw_data=pd.read_csv(\"raw_data.csv\")"
   ]
  },
  {
   "cell_type": "markdown",
   "metadata": {},
   "source": [
    "We begin data preprocessing by looking at the structure of our raw data. The following lyrics are from *Grenade:*"
   ]
  },
  {
   "cell_type": "code",
   "execution_count": 10,
   "metadata": {},
   "outputs": [
    {
     "data": {
      "text/plain": [
       "'[Verse 1]\\nEasy come, easy go, that\\'s just how you live, oh\\nTake, take, take it all, but you never give\\nShoulda known you was trouble from the first kiss\\nHad your eyes wide open; why were they open? (Ooh)\\n\\n[Pre-Chorus]\\nGave you all I had and you tossed it in the trash\\nYou tossed it in the trash, you did\\nTo give me all your love is all I ever ask\\n\\'Cause what you don\\'t understand is\\n\\n[Chorus]\\nI\\'d catch a grenade for ya (Yeah, yeah, yeah)\\nThrow my hand on a blade for ya (Yeah, yeah, yeah)\\nI\\'d jump in front of a train for ya (Yeah, yeah, yeah)\\nYou know I\\'d do anything for ya (Yeah, yeah, yeah)\\nOh, oh-oh oh oh, I would go through all this pain\\nTake a bullet straight through my brain\\nYes, I would die for ya baby\\nBut you won\\'t do the same\\n\\n[Post-Chorus]\\nNo, no, no, no, oh-oh oh...\\n\\n[Verse 2]\\nBlack, black, black and blue, beat me \\'til I\\'m numb\\nTell the devil I said \"Hey\" when you get back to where you\\'re from\\nMad woman, bad woman, that\\'s just what you are\\nYeah, you\\'ll smile in my face then rip the brakes out my car\\n\\n[Pre-Chorus]\\nGave you all I had and you tossed it in the trash\\nYou tossed it in the trash; yes, you did!\\nTo give me all your love is all I ever ask\\n\\'Cause what you don\\'t understand is\\n\\n[Chorus]\\nI\\'d catch a grenade for ya (Yeah, yeah, yeah)\\nThrow my hand on a blade for ya (Yeah, yeah, yeah)\\nI\\'d jump in front of a train for ya (Yeah, yeah, yeah)\\nYou know I\\'d do anything for ya (Yeah, yeah, yeah)\\nOh, oh-oh oh oh, I would go through all this pain\\nTake a bullet straight through my brain\\nYes, I would die for ya, baby\\nBut you won\\'t do the same\\n\\n[Bridge]\\nIf my body was on fire\\nOoh, you\\'d watch me burn down in flames\\nYou said you loved me, you\\'re a liar\\nCause you never, ever, ever did, baby\\n\\n[Chorus]\\nBut darlin\\', I\\'d still catch a grenade for ya (Yeah, yeah, yeah)\\nThrow my hand on a blade for ya (Yeah, yeah, yeah)\\nI\\'d jump in front of a train for ya (Yeah, yeah, yeah)\\nYou know I\\'d do anything for ya (Yeah, yeah, yeah)\\nOh, oh-oh oh-oh, I would go through all this pain\\nTake a bullet straight through my brain\\nYes, I would die for ya, baby\\nBut you won\\'t do the same\\n\\n[Outro]\\nNo, you won\\'t do the same\\nYou wouldn\\'t do the same\\nOoh, you\\'d never do the same\\nNo, no, no, no oh-oh oh'"
      ]
     },
     "execution_count": 10,
     "metadata": {},
     "output_type": "execute_result"
    }
   ],
   "source": [
    "raw_data[\"Lyrics\"][0]"
   ]
  },
  {
   "cell_type": "markdown",
   "metadata": {},
   "source": [
    "The instances of \\n denote line breaks just as how the song appears on Genius. Splitting the text between \\n, we can see that the lyrics are divided by song structure, namely the verse, chorus, and bridge:"
   ]
  },
  {
   "cell_type": "code",
   "execution_count": 11,
   "metadata": {},
   "outputs": [
    {
     "data": {
      "text/plain": [
       "['[Verse 1]',\n",
       " \"Easy come, easy go, that's just how you live, oh\",\n",
       " 'Take, take, take it all, but you never give',\n",
       " 'Shoulda known you was trouble from the first kiss',\n",
       " 'Had your eyes wide open; why were they open? (Ooh)',\n",
       " '',\n",
       " '[Pre-Chorus]',\n",
       " 'Gave you all I had and you tossed it in the trash',\n",
       " 'You tossed it in the trash, you did',\n",
       " 'To give me all your love is all I ever ask',\n",
       " \"'Cause what you don't understand is\",\n",
       " '',\n",
       " '[Chorus]',\n",
       " \"I'd catch a grenade for ya (Yeah, yeah, yeah)\",\n",
       " 'Throw my hand on a blade for ya (Yeah, yeah, yeah)',\n",
       " \"I'd jump in front of a train for ya (Yeah, yeah, yeah)\",\n",
       " \"You know I'd do anything for ya (Yeah, yeah, yeah)\",\n",
       " 'Oh, oh-oh oh oh, I would go through all this pain',\n",
       " 'Take a bullet straight through my brain',\n",
       " 'Yes, I would die for ya baby',\n",
       " \"But you won't do the same\",\n",
       " '',\n",
       " '[Post-Chorus]',\n",
       " 'No, no, no, no, oh-oh oh...',\n",
       " '',\n",
       " '[Verse 2]',\n",
       " \"Black, black, black and blue, beat me 'til I'm numb\",\n",
       " 'Tell the devil I said \"Hey\" when you get back to where you\\'re from',\n",
       " \"Mad woman, bad woman, that's just what you are\",\n",
       " \"Yeah, you'll smile in my face then rip the brakes out my car\",\n",
       " '',\n",
       " '[Pre-Chorus]',\n",
       " 'Gave you all I had and you tossed it in the trash',\n",
       " 'You tossed it in the trash; yes, you did!',\n",
       " 'To give me all your love is all I ever ask',\n",
       " \"'Cause what you don't understand is\",\n",
       " '',\n",
       " '[Chorus]',\n",
       " \"I'd catch a grenade for ya (Yeah, yeah, yeah)\",\n",
       " 'Throw my hand on a blade for ya (Yeah, yeah, yeah)',\n",
       " \"I'd jump in front of a train for ya (Yeah, yeah, yeah)\",\n",
       " \"You know I'd do anything for ya (Yeah, yeah, yeah)\",\n",
       " 'Oh, oh-oh oh oh, I would go through all this pain',\n",
       " 'Take a bullet straight through my brain',\n",
       " 'Yes, I would die for ya, baby',\n",
       " \"But you won't do the same\",\n",
       " '',\n",
       " '[Bridge]',\n",
       " 'If my body was on fire',\n",
       " \"Ooh, you'd watch me burn down in flames\",\n",
       " \"You said you loved me, you're a liar\",\n",
       " 'Cause you never, ever, ever did, baby',\n",
       " '',\n",
       " '[Chorus]',\n",
       " \"But darlin', I'd still catch a grenade for ya (Yeah, yeah, yeah)\",\n",
       " 'Throw my hand on a blade for ya (Yeah, yeah, yeah)',\n",
       " \"I'd jump in front of a train for ya (Yeah, yeah, yeah)\",\n",
       " \"You know I'd do anything for ya (Yeah, yeah, yeah)\",\n",
       " 'Oh, oh-oh oh-oh, I would go through all this pain',\n",
       " 'Take a bullet straight through my brain',\n",
       " 'Yes, I would die for ya, baby',\n",
       " \"But you won't do the same\",\n",
       " '',\n",
       " '[Outro]',\n",
       " \"No, you won't do the same\",\n",
       " \"You wouldn't do the same\",\n",
       " \"Ooh, you'd never do the same\",\n",
       " 'No, no, no, no oh-oh oh']"
      ]
     },
     "execution_count": 11,
     "metadata": {},
     "output_type": "execute_result"
    }
   ],
   "source": [
    "raw_data[\"Lyrics\"][0].split(\"\\n\")"
   ]
  },
  {
   "cell_type": "markdown",
   "metadata": {},
   "source": []
  }
 ],
 "metadata": {
  "kernelspec": {
   "display_name": "Python 3",
   "language": "python",
   "name": "python3"
  },
  "language_info": {
   "codemirror_mode": {
    "name": "ipython",
    "version": 3
   },
   "file_extension": ".py",
   "mimetype": "text/x-python",
   "name": "python",
   "nbconvert_exporter": "python",
   "pygments_lexer": "ipython3",
   "version": "3.7.4"
  }
 },
 "nbformat": 4,
 "nbformat_minor": 2
}
