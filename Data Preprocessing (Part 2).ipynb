{
 "cells": [
  {
   "cell_type": "code",
   "execution_count": 1,
   "metadata": {},
   "outputs": [],
   "source": [
    "import os\n",
    "import numpy as np\n",
    "import pandas as pd"
   ]
  },
  {
   "cell_type": "code",
   "execution_count": 2,
   "metadata": {},
   "outputs": [
    {
     "data": {
      "text/plain": [
       "'C:\\\\Users\\\\chuat\\\\Documents\\\\GitHub\\\\Bruno-Mars'"
      ]
     },
     "execution_count": 2,
     "metadata": {},
     "output_type": "execute_result"
    }
   ],
   "source": [
    "os.getcwd()"
   ]
  },
  {
   "cell_type": "code",
   "execution_count": 3,
   "metadata": {},
   "outputs": [
    {
     "data": {
      "text/html": [
       "<div>\n",
       "<style scoped>\n",
       "    .dataframe tbody tr th:only-of-type {\n",
       "        vertical-align: middle;\n",
       "    }\n",
       "\n",
       "    .dataframe tbody tr th {\n",
       "        vertical-align: top;\n",
       "    }\n",
       "\n",
       "    .dataframe thead th {\n",
       "        text-align: right;\n",
       "    }\n",
       "</style>\n",
       "<table border=\"1\" class=\"dataframe\">\n",
       "  <thead>\n",
       "    <tr style=\"text-align: right;\">\n",
       "      <th></th>\n",
       "      <th>Song Title</th>\n",
       "      <th>Raw Data</th>\n",
       "      <th>Preprocessed</th>\n",
       "    </tr>\n",
       "  </thead>\n",
       "  <tbody>\n",
       "    <tr>\n",
       "      <td>0</td>\n",
       "      <td>Grenade</td>\n",
       "      <td>[Verse 1]\\nEasy come, easy go, that's just how...</td>\n",
       "      <td>easy come easy go live oh take take take never...</td>\n",
       "    </tr>\n",
       "    <tr>\n",
       "      <td>1</td>\n",
       "      <td>Just the Way You Are</td>\n",
       "      <td>[Verse 1]\\nOh, her eyes, her eyes\\nMake the st...</td>\n",
       "      <td>oh eye eye make star look like shinin hair hai...</td>\n",
       "    </tr>\n",
       "    <tr>\n",
       "      <td>2</td>\n",
       "      <td>Our First Time</td>\n",
       "      <td>[Refrain]\\nDon't it feel good, babe?\\nDon't it...</td>\n",
       "      <td>feel good babe feel good baby brand new babe b...</td>\n",
       "    </tr>\n",
       "    <tr>\n",
       "      <td>3</td>\n",
       "      <td>Runaway Baby</td>\n",
       "      <td>[Intro]\\nOh yes\\n\\n[Verse 1]\\nWell, looky here...</td>\n",
       "      <td>oh yes well looky looky ah another pretty thin...</td>\n",
       "    </tr>\n",
       "    <tr>\n",
       "      <td>4</td>\n",
       "      <td>Lazy Song</td>\n",
       "      <td>[Chorus]\\nToday, I don't feel like doing anyth...</td>\n",
       "      <td>today feel like anything want lay bed feel lik...</td>\n",
       "    </tr>\n",
       "  </tbody>\n",
       "</table>\n",
       "</div>"
      ],
      "text/plain": [
       "             Song Title                                           Raw Data  \\\n",
       "0               Grenade  [Verse 1]\\nEasy come, easy go, that's just how...   \n",
       "1  Just the Way You Are  [Verse 1]\\nOh, her eyes, her eyes\\nMake the st...   \n",
       "2        Our First Time  [Refrain]\\nDon't it feel good, babe?\\nDon't it...   \n",
       "3          Runaway Baby  [Intro]\\nOh yes\\n\\n[Verse 1]\\nWell, looky here...   \n",
       "4             Lazy Song  [Chorus]\\nToday, I don't feel like doing anyth...   \n",
       "\n",
       "                                        Preprocessed  \n",
       "0  easy come easy go live oh take take take never...  \n",
       "1  oh eye eye make star look like shinin hair hai...  \n",
       "2  feel good babe feel good baby brand new babe b...  \n",
       "3  oh yes well looky looky ah another pretty thin...  \n",
       "4  today feel like anything want lay bed feel lik...  "
      ]
     },
     "execution_count": 3,
     "metadata": {},
     "output_type": "execute_result"
    }
   ],
   "source": [
    "data=pd.read_csv(\"preprocessed_data (part 1).csv\")\n",
    "data.head()"
   ]
  },
  {
   "cell_type": "markdown",
   "metadata": {},
   "source": [
    "The final step of text preprocessing is aggregating all 28 songs in my data into three albums:"
   ]
  },
  {
   "cell_type": "code",
   "execution_count": 4,
   "metadata": {},
   "outputs": [
    {
     "data": {
      "text/html": [
       "<div>\n",
       "<style scoped>\n",
       "    .dataframe tbody tr th:only-of-type {\n",
       "        vertical-align: middle;\n",
       "    }\n",
       "\n",
       "    .dataframe tbody tr th {\n",
       "        vertical-align: top;\n",
       "    }\n",
       "\n",
       "    .dataframe thead th {\n",
       "        text-align: right;\n",
       "    }\n",
       "</style>\n",
       "<table border=\"1\" class=\"dataframe\">\n",
       "  <thead>\n",
       "    <tr style=\"text-align: right;\">\n",
       "      <th></th>\n",
       "      <th>Song Title</th>\n",
       "      <th>Raw Data</th>\n",
       "      <th>Preprocessed</th>\n",
       "      <th>Album</th>\n",
       "    </tr>\n",
       "  </thead>\n",
       "  <tbody>\n",
       "    <tr>\n",
       "      <td>0</td>\n",
       "      <td>Grenade</td>\n",
       "      <td>[Verse 1]\\nEasy come, easy go, that's just how...</td>\n",
       "      <td>easy come easy go live oh take take take never...</td>\n",
       "      <td>Doo-Wops &amp; Hooligans</td>\n",
       "    </tr>\n",
       "    <tr>\n",
       "      <td>1</td>\n",
       "      <td>Just the Way You Are</td>\n",
       "      <td>[Verse 1]\\nOh, her eyes, her eyes\\nMake the st...</td>\n",
       "      <td>oh eye eye make star look like shinin hair hai...</td>\n",
       "      <td>Doo-Wops &amp; Hooligans</td>\n",
       "    </tr>\n",
       "    <tr>\n",
       "      <td>2</td>\n",
       "      <td>Our First Time</td>\n",
       "      <td>[Refrain]\\nDon't it feel good, babe?\\nDon't it...</td>\n",
       "      <td>feel good babe feel good baby brand new babe b...</td>\n",
       "      <td>Doo-Wops &amp; Hooligans</td>\n",
       "    </tr>\n",
       "    <tr>\n",
       "      <td>3</td>\n",
       "      <td>Runaway Baby</td>\n",
       "      <td>[Intro]\\nOh yes\\n\\n[Verse 1]\\nWell, looky here...</td>\n",
       "      <td>oh yes well looky looky ah another pretty thin...</td>\n",
       "      <td>Doo-Wops &amp; Hooligans</td>\n",
       "    </tr>\n",
       "    <tr>\n",
       "      <td>4</td>\n",
       "      <td>Lazy Song</td>\n",
       "      <td>[Chorus]\\nToday, I don't feel like doing anyth...</td>\n",
       "      <td>today feel like anything want lay bed feel lik...</td>\n",
       "      <td>Doo-Wops &amp; Hooligans</td>\n",
       "    </tr>\n",
       "  </tbody>\n",
       "</table>\n",
       "</div>"
      ],
      "text/plain": [
       "             Song Title                                           Raw Data  \\\n",
       "0               Grenade  [Verse 1]\\nEasy come, easy go, that's just how...   \n",
       "1  Just the Way You Are  [Verse 1]\\nOh, her eyes, her eyes\\nMake the st...   \n",
       "2        Our First Time  [Refrain]\\nDon't it feel good, babe?\\nDon't it...   \n",
       "3          Runaway Baby  [Intro]\\nOh yes\\n\\n[Verse 1]\\nWell, looky here...   \n",
       "4             Lazy Song  [Chorus]\\nToday, I don't feel like doing anyth...   \n",
       "\n",
       "                                        Preprocessed                 Album  \n",
       "0  easy come easy go live oh take take take never...  Doo-Wops & Hooligans  \n",
       "1  oh eye eye make star look like shinin hair hai...  Doo-Wops & Hooligans  \n",
       "2  feel good babe feel good baby brand new babe b...  Doo-Wops & Hooligans  \n",
       "3  oh yes well looky looky ah another pretty thin...  Doo-Wops & Hooligans  \n",
       "4  today feel like anything want lay bed feel lik...  Doo-Wops & Hooligans  "
      ]
     },
     "execution_count": 4,
     "metadata": {},
     "output_type": "execute_result"
    }
   ],
   "source": [
    "DWH=[\"Grenade\",\"Just the Way You Are\",\"Our First Time\",\"Runaway Baby\",\"Lazy Song\",\"Marry You\",\"Talking to the Moon\",\"Liquor Store Blues\",\"The Other Side\"]\n",
    "UJ=[\"Young Girls\",\"Locked Out of Heaven\",\"Gorilla\",\"Treasure\",\"Moonshine\",\"When I Was Your Man\",\"Natalie\",\"Show Me\",\"Money Make Her Smile\",\"If I Knew\"]\n",
    "XX4K=[\"24K Magic\",\"Chunky\",\"Perm\",\"That's What I Like\",\"Versace on the Floor\",\"Straight Up & Down\",\"Calling All My Lovelies\",\"Finesse\",\"Too Good to Say Goodbye\"]\n",
    "\n",
    "albumName=[\"Doo-Wops & Hooligans\",\"Unorthodox Jukebox\",\"XX4K\"]\n",
    "\n",
    "def fillAlbum(referenceVector,albumName):\n",
    "    data.loc[data[\"Song Title\"].isin(referenceVector),\"Album\"]=albumName\n",
    "fillAlbum(DWH,albumName[0])\n",
    "fillAlbum(UJ,albumName[1])\n",
    "fillAlbum(XX4K,albumName[2])\n",
    "\n",
    "data.head()"
   ]
  },
  {
   "cell_type": "code",
   "execution_count": 5,
   "metadata": {},
   "outputs": [
    {
     "data": {
      "text/html": [
       "<div>\n",
       "<style scoped>\n",
       "    .dataframe tbody tr th:only-of-type {\n",
       "        vertical-align: middle;\n",
       "    }\n",
       "\n",
       "    .dataframe tbody tr th {\n",
       "        vertical-align: top;\n",
       "    }\n",
       "\n",
       "    .dataframe thead th {\n",
       "        text-align: right;\n",
       "    }\n",
       "</style>\n",
       "<table border=\"1\" class=\"dataframe\">\n",
       "  <thead>\n",
       "    <tr style=\"text-align: right;\">\n",
       "      <th></th>\n",
       "      <th>Album</th>\n",
       "      <th>Lyrics</th>\n",
       "    </tr>\n",
       "  </thead>\n",
       "  <tbody>\n",
       "    <tr>\n",
       "      <td>0</td>\n",
       "      <td>Doo-Wops &amp; Hooligans</td>\n",
       "      <td>easy come easy go live oh take take take never...</td>\n",
       "    </tr>\n",
       "    <tr>\n",
       "      <td>1</td>\n",
       "      <td>Unorthodox Jukebox</td>\n",
       "      <td>spend money big old fancy car brighteyed honey...</td>\n",
       "    </tr>\n",
       "    <tr>\n",
       "      <td>2</td>\n",
       "      <td>XX4K</td>\n",
       "      <td>tonight want take higher throw hand sky let u ...</td>\n",
       "    </tr>\n",
       "  </tbody>\n",
       "</table>\n",
       "</div>"
      ],
      "text/plain": [
       "                  Album                                             Lyrics\n",
       "0  Doo-Wops & Hooligans  easy come easy go live oh take take take never...\n",
       "1    Unorthodox Jukebox  spend money big old fancy car brighteyed honey...\n",
       "2                  XX4K  tonight want take higher throw hand sky let u ..."
      ]
     },
     "execution_count": 5,
     "metadata": {},
     "output_type": "execute_result"
    }
   ],
   "source": [
    "data=data.loc[:,[\"Album\",\"Preprocessed\"]] #data is left with only the Preprocessed and Album columns\n",
    "data=data.rename(columns={\"Preprocessed\":\"Lyrics\"}) #rename Preprocessed column to Lyrics\n",
    "\n",
    "lyricsByAlbum=[\" \".join(data.loc[data[\"Album\"]==i,\"Lyrics\"]) for i in albumName] #join lyrics by album\n",
    "data=pd.DataFrame({\"Album\":albumName,\"Lyrics\":lyricsByAlbum}) \n",
    "data"
   ]
  },
  {
   "cell_type": "code",
   "execution_count": 6,
   "metadata": {},
   "outputs": [],
   "source": [
    "data.to_csv(\"preprocessed_data (part 2).csv\",index=False)"
   ]
  }
 ],
 "metadata": {
  "kernelspec": {
   "display_name": "Python 3",
   "language": "python",
   "name": "python3"
  },
  "language_info": {
   "codemirror_mode": {
    "name": "ipython",
    "version": 3
   },
   "file_extension": ".py",
   "mimetype": "text/x-python",
   "name": "python",
   "nbconvert_exporter": "python",
   "pygments_lexer": "ipython3",
   "version": "3.7.4"
  }
 },
 "nbformat": 4,
 "nbformat_minor": 2
}
