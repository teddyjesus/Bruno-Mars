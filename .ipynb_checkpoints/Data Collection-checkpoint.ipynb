{
 "cells": [
  {
   "cell_type": "markdown",
   "metadata": {},
   "source": [
    "### Data Collection"
   ]
  },
  {
   "cell_type": "code",
   "execution_count": 1,
   "metadata": {},
   "outputs": [],
   "source": [
    "import os\n",
    "import requests\n",
    "import numpy as np\n",
    "import pandas as pd\n",
    "import lyricsgenius "
   ]
  },
  {
   "cell_type": "code",
   "execution_count": 2,
   "metadata": {},
   "outputs": [
    {
     "data": {
      "text/plain": [
       "'C:\\\\Users\\\\chuat\\\\Documents\\\\GitHub\\\\Bruno-Mars'"
      ]
     },
     "execution_count": 2,
     "metadata": {},
     "output_type": "execute_result"
    }
   ],
   "source": [
    "os.getcwd()"
   ]
  },
  {
   "cell_type": "markdown",
   "metadata": {},
   "source": [
    "I used the Genius API to collect my data. To execute an API call, I registered for an access token at https://genius.com/api-clients/new. I currently have 28 song lyrics from Bruno Mars' three studio albums: *Doo-Wops & Hooligans* (2010), *Unorthodox JukeBox* (2012), and *24K Magic* (2016). Data preprocessing will be conducted in another notebook."
   ]
  },
  {
   "cell_type": "code",
   "execution_count": 3,
   "metadata": {},
   "outputs": [
    {
     "name": "stdout",
     "output_type": "stream",
     "text": [
      "Searching for \"Grenade\" by Bruno Mars...\n",
      "Done.\n",
      "Searching for \"Just the Way You Are\" by Bruno Mars...\n",
      "Done.\n",
      "Searching for \"Our First Time\" by Bruno Mars...\n",
      "Done.\n",
      "Searching for \"Runaway Baby\" by Bruno Mars...\n",
      "Done.\n",
      "Searching for \"Lazy Song\" by Bruno Mars...\n",
      "Done.\n",
      "Searching for \"Marry You\" by Bruno Mars...\n",
      "Done.\n",
      "Searching for \"Talking to the Moon\" by Bruno Mars...\n",
      "Done.\n",
      "Searching for \"Liquor Store Blues\" by Bruno Mars...\n",
      "Done.\n",
      "Searching for \"The Other Side\" by Bruno Mars...\n",
      "Done.\n",
      "Searching for \"Young Girls\" by Bruno Mars...\n",
      "Done.\n",
      "Searching for \"Locked Out of Heaven\" by Bruno Mars...\n",
      "Done.\n",
      "Searching for \"Gorilla\" by Bruno Mars...\n",
      "Done.\n",
      "Searching for \"Treasure\" by Bruno Mars...\n",
      "Done.\n",
      "Searching for \"Moonshine\" by Bruno Mars...\n",
      "Done.\n",
      "Searching for \"When I Was Your Man\" by Bruno Mars...\n",
      "Done.\n",
      "Searching for \"Natalie\" by Bruno Mars...\n",
      "Done.\n",
      "Searching for \"Show Me\" by Bruno Mars...\n",
      "Done.\n",
      "Searching for \"Money Make Her Smile\" by Bruno Mars...\n",
      "Done.\n",
      "Searching for \"If I Knew\" by Bruno Mars...\n",
      "Done.\n",
      "Searching for \"24K Magic\" by Bruno Mars...\n",
      "Done.\n",
      "Searching for \"Chunky\" by Bruno Mars...\n",
      "Done.\n",
      "Searching for \"Perm\" by Bruno Mars...\n",
      "Done.\n",
      "Searching for \"That's What I Like\" by Bruno Mars...\n",
      "Done.\n",
      "Searching for \"Versace on the Floor\" by Bruno Mars...\n",
      "Done.\n",
      "Searching for \"Straight Up & Down\" by Bruno Mars...\n",
      "Done.\n",
      "Searching for \"Calling All My Lovelies\" by Bruno Mars...\n",
      "Done.\n",
      "Searching for \"Finesse\" by Bruno Mars...\n",
      "Done.\n",
      "Searching for \"Too Good to Say Goodbye\" by Bruno Mars...\n",
      "Done.\n"
     ]
    }
   ],
   "source": [
    "client_accessToken=\" \" #I removed my token before publishing it to GitHub.\n",
    "api=lyricsgenius.Genius(client_accessToken)\n",
    "\n",
    "song_titles=[\"Grenade\",\"Just the Way You Are\",\"Our First Time\",\"Runaway Baby\",\"Lazy Song\",\"Marry You\",\"Talking to the Moon\",\"Liquor Store Blues\",\"The Other Side\",\"Young Girls\",\"Locked Out of Heaven\",\"Gorilla\",\"Treasure\",\"Moonshine\",\"When I Was Your Man\",\"Natalie\",\"Show Me\",\"Money Make Her Smile\",\"If I Knew\",\"24K Magic\",\"Chunky\",\"Perm\",\"That's What I Like\",\"Versace on the Floor\",\"Straight Up & Down\",\"Calling All My Lovelies\",\"Finesse\",\"Too Good to Say Goodbye\"]\n",
    "\n",
    "song_lyrics=[]\n",
    "for i in song_titles:\n",
    "    api_call=api.search_song(i,\"Bruno Mars\")\n",
    "    x=api_call.lyrics\n",
    "    song_lyrics.append(x)"
   ]
  },
  {
   "cell_type": "code",
   "execution_count": 4,
   "metadata": {},
   "outputs": [
    {
     "data": {
      "text/plain": [
       "28"
      ]
     },
     "execution_count": 4,
     "metadata": {},
     "output_type": "execute_result"
    }
   ],
   "source": [
    "len(song_lyrics)"
   ]
  },
  {
   "cell_type": "code",
   "execution_count": 5,
   "metadata": {},
   "outputs": [
    {
     "data": {
      "text/html": [
       "<div>\n",
       "<style scoped>\n",
       "    .dataframe tbody tr th:only-of-type {\n",
       "        vertical-align: middle;\n",
       "    }\n",
       "\n",
       "    .dataframe tbody tr th {\n",
       "        vertical-align: top;\n",
       "    }\n",
       "\n",
       "    .dataframe thead th {\n",
       "        text-align: right;\n",
       "    }\n",
       "</style>\n",
       "<table border=\"1\" class=\"dataframe\">\n",
       "  <thead>\n",
       "    <tr style=\"text-align: right;\">\n",
       "      <th></th>\n",
       "      <th>Title</th>\n",
       "      <th>Lyrics</th>\n",
       "    </tr>\n",
       "  </thead>\n",
       "  <tbody>\n",
       "    <tr>\n",
       "      <td>0</td>\n",
       "      <td>Grenade</td>\n",
       "      <td>[Verse 1]\\nEasy come, easy go, that's just how...</td>\n",
       "    </tr>\n",
       "    <tr>\n",
       "      <td>1</td>\n",
       "      <td>Just the Way You Are</td>\n",
       "      <td>[Verse 1]\\nOh, her eyes, her eyes\\nMake the st...</td>\n",
       "    </tr>\n",
       "    <tr>\n",
       "      <td>2</td>\n",
       "      <td>Our First Time</td>\n",
       "      <td>[Refrain]\\nDon't it feel good, babe?\\nDon't it...</td>\n",
       "    </tr>\n",
       "    <tr>\n",
       "      <td>3</td>\n",
       "      <td>Runaway Baby</td>\n",
       "      <td>[Intro]\\nOh yes\\n\\n[Verse 1]\\nWell, looky here...</td>\n",
       "    </tr>\n",
       "    <tr>\n",
       "      <td>4</td>\n",
       "      <td>Lazy Song</td>\n",
       "      <td>[Chorus]\\nToday, I don't feel like doing anyth...</td>\n",
       "    </tr>\n",
       "  </tbody>\n",
       "</table>\n",
       "</div>"
      ],
      "text/plain": [
       "                  Title                                             Lyrics\n",
       "0               Grenade  [Verse 1]\\nEasy come, easy go, that's just how...\n",
       "1  Just the Way You Are  [Verse 1]\\nOh, her eyes, her eyes\\nMake the st...\n",
       "2        Our First Time  [Refrain]\\nDon't it feel good, babe?\\nDon't it...\n",
       "3          Runaway Baby  [Intro]\\nOh yes\\n\\n[Verse 1]\\nWell, looky here...\n",
       "4             Lazy Song  [Chorus]\\nToday, I don't feel like doing anyth..."
      ]
     },
     "execution_count": 5,
     "metadata": {},
     "output_type": "execute_result"
    }
   ],
   "source": [
    "df=pd.DataFrame({\"Title\":song_titles,\"Lyrics\":song_lyrics})\n",
    "df.head()"
   ]
  },
  {
   "cell_type": "code",
   "execution_count": 6,
   "metadata": {},
   "outputs": [],
   "source": [
    "df.to_csv(\"raw_data.csv\",index=False)"
   ]
  }
 ],
 "metadata": {
  "kernelspec": {
   "display_name": "Python 3",
   "language": "python",
   "name": "python3"
  },
  "language_info": {
   "codemirror_mode": {
    "name": "ipython",
    "version": 3
   },
   "file_extension": ".py",
   "mimetype": "text/x-python",
   "name": "python",
   "nbconvert_exporter": "python",
   "pygments_lexer": "ipython3",
   "version": "3.7.4"
  }
 },
 "nbformat": 4,
 "nbformat_minor": 2
}
